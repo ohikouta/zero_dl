{
 "cells": [
  {
   "cell_type": "markdown",
   "id": "f9ea3ab0",
   "metadata": {},
   "source": [
    "# ６章. 学習に関するテクニック"
   ]
  },
  {
   "cell_type": "markdown",
   "id": "43da97db",
   "metadata": {},
   "source": [
    "## 6-1. パラメータの更新"
   ]
  },
  {
   "cell_type": "markdown",
   "id": "15c634c2",
   "metadata": {},
   "source": [
    "最適化問題は難しい。確率的勾配降下法（SGD）は単純で、パラメータ空間を闇雲に探すよりも賢い方法だった。しかし、解決したい問題によってはSDGよりもさらにスマートな手法が存在する。"
   ]
  },
  {
   "cell_type": "code",
   "execution_count": 1,
   "id": "f80f2c60",
   "metadata": {},
   "outputs": [],
   "source": [
    "# -*- coding:utf-8 -*-\n",
    "\n",
    "# SDG クラスの実装\n",
    "\n",
    "class SDG:\n",
    "    \n",
    "    def __init__(self, lr=0.01):  # lr(learning rate) : 学習係数をインスタンスに持つ\n",
    "        self.lr = lr\n",
    "        \n",
    "    def upgrade(self, params, grads):\n",
    "        for key in params.keys():\n",
    "            params[key] -= self.lr * grads[key]"
   ]
  },
  {
   "cell_type": "markdown",
   "id": "b3f84441",
   "metadata": {},
   "source": [
    "SDGは関数の形状が等方的でないと、非効率な経路になる。\n",
    "\n",
    "Momentum\n",
    "\n",
    "モーメンタムとは運動量を意味し、物理と関係がある。\n",
    "\n",
    "数式：v←av＊ｎ＊dL/dW, W←W＋v\n",
    "\n",
    "dL/dW：Wに対する損失関数の勾配\n",
    "\n",
    "W：更新する重みパラメータ\n",
    "\n",
    "n：学習係数\n",
    "\n",
    "v：物理でいうところの速度\n",
    "\n",
    "av：物体が何も力を受けないときに徐々に減速するための役割を担う，物理でいう地面の摩擦や空気抵抗\n",
    "\n"
   ]
  },
  {
   "cell_type": "code",
   "execution_count": 2,
   "id": "6f97ed51",
   "metadata": {},
   "outputs": [],
   "source": [
    "# -*- coding:utf-8 -*-\n",
    "\n",
    "# Momentum の実装\n",
    "\n",
    "class Momentum:\n",
    "    \n",
    "    def __init__(self, lr=0.01, momentum=0.9):\n",
    "        self.lr = lr\n",
    "        self.momentum = momentum\n",
    "        self.v = None\n",
    "        \n",
    "    def update(self, params, grads):\n",
    "        if self.v is None:\n",
    "            self.v = {}\n",
    "            for key, val in params.items():\n",
    "                self.v[key] = np.zeros_like(val)\n",
    "                \n",
    "        for key in params.keys():\n",
    "            self.v[key] = self.momentum*self.v[key] - self.lr * grads[key]\n",
    "            params[key] += self.v[key]"
   ]
  },
  {
   "cell_type": "markdown",
   "id": "fd01f75f",
   "metadata": {},
   "source": [
    "Momentumを使って最適化問題を解くと、SDGよりも早く(0, 0)に向かって収束している様子が確認できる。これはx軸方向に受ける力は小さくても常に同じ方向の力を受けることで加速するためである。y軸方向は正と負の方向の力を交互に受けるため、それらは互いに打ち消し合い、y軸方向の速度が安定しない。これらによってSDGと比較してx軸方向へ早く進み、(0, 0)への収束が早まる。"
   ]
  },
  {
   "cell_type": "markdown",
   "id": "9ed29b70",
   "metadata": {},
   "source": [
    "AdaGrad\n",
    "\n",
    "学習係数の減衰：学習が進むについて学習係数を小さくすること。最初に大きく学習し、次第に小さく学習するという手法。\n",
    "\n",
    "AdaGradは一つ一つのパラメータに対して適応的に学習係数を調整しながら学習を行う手法。\n",
    "\n",
    "数式：h←h＋dL/dW 二乗和 dL/DW,  W←W-n * 1/sqrt(h) * dL/dW\n",
    "\n",
    "h：これまで経験した勾配の値を２乗和として保持する。パラメータの更新の際にかけ合わせている、1/sqrt(h)を乗算することは学習スケールの調整を担っており、これはパラメータの要素の中で大きく更新された要素は学習係数が次第に小さくなるという学習係数の減衰をパラメータの要素ごとに行うことができる。"
   ]
  },
  {
   "cell_type": "code",
   "execution_count": 7,
   "id": "9ee9e602",
   "metadata": {},
   "outputs": [],
   "source": [
    "# -*- coding;utf-8 -*-\n",
    "\n",
    "# AdaGrad の実装\n",
    "\n",
    "import numpy as np\n",
    "\n",
    "class AdaGrad:\n",
    "    def __init__(self, lr=0.01):\n",
    "        self.lr = lr\n",
    "        self.h = None\n",
    "        \n",
    "    def update(self, params, grads):\n",
    "        if self.h is None:\n",
    "            self.h = {}\n",
    "            for key, val in params.items():\n",
    "                self.h[key] = np.zeros_like(val)\n",
    "                \n",
    "        for key in params.keys():\n",
    "            self.h[key] += grads[key] * grads[key]\n",
    "            params[key] -= self.lr * grads[key] / (np.sqrt(self.h[key]) + 1e-7)  # 1e-7　ゼロ除算を防ぐ"
   ]
  },
  {
   "cell_type": "markdown",
   "id": "05741120",
   "metadata": {},
   "source": [
    "Adam\n",
    "\n",
    "Momentumは、ボールがお椀を転がるように物理法則に準じる動きを表現し、AdaGradは、パラメータの要素ごとに適応的に更新ステップを調整した。この２つの手法を融合したすることがAdamのベースとなるアイデア。\n",
    "\n",
    "Adamは2015年に提案された新しい手法であり、理論は複雑だが、先の２つの手法の利点を組み合わせることで効率的にパラメータ空間を探索することが期待される。\n",
    "\n",
    "Adamは３つのハイパーパラメータを設定する。１．学習係数、２．一次モーメント用の係数b1、３．二次モーメント用の係数b2である。論文によるとb1は0.9, b2は0.999であり、その設定値は多くの場合うまく行くらしい。"
   ]
  },
  {
   "cell_type": "markdown",
   "id": "ddaeb59b",
   "metadata": {},
   "source": [
    "MNISTデータセットによる更新手法の比較\n",
    "\n",
    "５層ニューラルネットワーク、各層１００個のニューロン、活性化関数はReLUを使用したネットワーク。\n",
    "\n",
    "（ソースコードは配賦済み）\n",
    "\n",
    "実験は学習係数のハイパーパラメータや、ニューラルネットワークの構造（何層の深さかなど）によって結果は変化する。ただし、一般的にはSDGよりも他の３つの手法が早く学習でき、時には最終的な認識性能も高くなる。"
   ]
  },
  {
   "cell_type": "markdown",
   "id": "a30b87bf",
   "metadata": {},
   "source": [
    "## 6-2. 重みの初期値"
   ]
  },
  {
   "cell_type": "markdown",
   "id": "98311966",
   "metadata": {},
   "source": [
    "ニューラルネットワークで特に重要になってくるのが，重みの初期値です．重みの初期値としてどのような値を設定するかで，ニューラルネットワークの学習の成否が分かれることが実際によくあります．本節では，推奨される重みの初期値について説明し，実験によって実際にニューラルネットワークの学習が速やかに行われることを確認します．"
   ]
  },
  {
   "cell_type": "markdown",
   "id": "ddb2cd08",
   "metadata": {},
   "source": [
    "### 重みの初期値を0にする？\n",
    "これはダメ．これは誤差逆伝播法において，すべての重みの値が均一に更新されてしまうからである．これではたくさんの重みをもつ意味がなくなってしまう．重みの対称的な構造を崩すためには，ランダムな初期値が必要になる．"
   ]
  },
  {
   "cell_type": "code",
   "execution_count": 14,
   "id": "ec610c11",
   "metadata": {},
   "outputs": [
    {
     "name": "stdout",
     "output_type": "stream",
     "text": [
      "{0: array([[-0.84236128, -0.615322  , -0.4870198 , ..., -0.68616441,\n",
      "        -0.42313218, -0.8504631 ],\n",
      "       [ 0.35663878, -0.37693888, -0.29869558, ...,  0.78043419,\n",
      "        -0.60249988,  0.33967596],\n",
      "       [-0.33524879,  0.27064909, -0.58812096, ..., -0.2826891 ,\n",
      "         0.820206  , -0.78164812],\n",
      "       ...,\n",
      "       [-0.81404082,  0.42787376,  0.40552582, ...,  0.80992601,\n",
      "        -0.46307508, -0.37625091],\n",
      "       [ 0.17721324,  0.71495973,  0.20539471, ...,  0.16852944,\n",
      "         0.03279488, -0.87905455],\n",
      "       [-0.07394374,  0.47169778,  0.85872996, ...,  0.92071571,\n",
      "        -0.99666681,  0.11056219]]), 1: array([[ 0.73484044,  0.19179053, -0.13099328, ..., -0.12578717,\n",
      "         0.30119644,  0.32879863],\n",
      "       [ 0.28342007, -0.10157601,  0.23600676, ...,  0.39986291,\n",
      "        -0.27118407,  0.32106037],\n",
      "       [ 0.17639072, -0.44949319, -0.81957904, ...,  0.17025843,\n",
      "         0.37022795, -0.63106316],\n",
      "       ...,\n",
      "       [ 0.28501225,  0.71105885, -0.40189534, ..., -0.1061145 ,\n",
      "         0.2820438 ,  0.57972072],\n",
      "       [-0.65790584, -0.15389429,  0.39094589, ..., -0.25207266,\n",
      "        -0.56407551, -0.70014696],\n",
      "       [-0.02118003,  0.23631515,  0.35536199, ...,  0.12972679,\n",
      "        -0.46349673, -0.58993269]]), 2: array([[-0.01967875, -0.5747293 ,  0.51452044, ..., -0.13479238,\n",
      "         0.08101195,  0.67365881],\n",
      "       [-0.59709095,  0.67770523, -0.47778892, ...,  0.43949061,\n",
      "         0.81759975, -0.03303636],\n",
      "       [-0.54638943,  0.61592778, -0.25862731, ...,  0.02603483,\n",
      "         0.14142607, -0.10685239],\n",
      "       ...,\n",
      "       [ 0.16995149, -0.40900922,  0.55959494, ..., -0.7368115 ,\n",
      "        -0.46636939, -0.17343862],\n",
      "       [ 0.14749221, -0.5968091 , -0.18284119, ...,  0.47143365,\n",
      "        -0.2177206 , -0.22935859],\n",
      "       [-0.26982685, -0.06611635,  0.18461336, ..., -0.32370866,\n",
      "        -0.38687908,  0.28420084]]), 3: array([[ 0.63229656, -0.44110755,  0.10565156, ..., -0.18345689,\n",
      "         0.36124422,  0.10600437],\n",
      "       [ 0.17196556,  0.17180427,  0.48057215, ..., -0.23965786,\n",
      "        -0.37931171, -0.24408374],\n",
      "       [ 0.00345735, -0.2735976 , -0.67443943, ...,  0.30337004,\n",
      "        -0.62164525, -0.25268343],\n",
      "       ...,\n",
      "       [ 0.31344026, -0.26697643, -0.06166249, ..., -0.02611857,\n",
      "         0.38306211,  0.0426553 ],\n",
      "       [ 0.09677239,  0.08588395,  0.65406147, ..., -0.04166165,\n",
      "        -0.29549622, -0.22246393],\n",
      "       [ 0.05108038, -0.02821486, -0.40278782, ...,  0.34687548,\n",
      "         0.36705677, -0.35049222]]), 4: array([[ 0.03813357, -0.39337852,  0.35837029, ..., -0.14067959,\n",
      "        -0.08034532, -0.40796244],\n",
      "       [-0.52134313, -0.35015676,  0.38765413, ...,  0.00704286,\n",
      "        -0.12777322, -0.52227902],\n",
      "       [-0.00156451, -0.19238961, -0.06135748, ...,  0.02620506,\n",
      "        -0.4389099 ,  0.33205575],\n",
      "       ...,\n",
      "       [ 0.31778049,  0.10624302,  0.17882052, ..., -0.30155592,\n",
      "        -0.29791549,  0.17861158],\n",
      "       [-0.05533759,  0.10215568, -0.22105616, ..., -0.14035344,\n",
      "         0.59225656,  0.22118309],\n",
      "       [ 0.2513251 , -0.26926054, -0.51717961, ...,  0.01769775,\n",
      "         0.19192768,  0.1972003 ]])}\n"
     ]
    },
    {
     "data": {
      "image/png": "[encoded data removed]",
      "text/plain": [
       "<Figure size 432x288 with 5 Axes>"
      ]
     },
     "metadata": {
      "needs_background": "light"
     },
     "output_type": "display_data"
    }
   ],
   "source": [
    "# -*- coding:utf-8 -*-\n",
    "\n",
    "# 重みの初期値によって隠れ層のアクティベーションがどのように変化するか\n",
    "\n",
    "import numpy as np\n",
    "import matplotlib.pyplot as plt\n",
    "\n",
    "def sigmoid(x):\n",
    "    return 1 / (1 + np.exp(-x))\n",
    "\n",
    "def ReLU(x):\n",
    "    return np.maximum(0, x)\n",
    "\n",
    "def tanh(x):\n",
    "    return np.tanh(x)\n",
    "\n",
    "input_data = np.random.randn(1000, 100)  # 1000個のデータ\n",
    "node_num = 100\n",
    "hidden_layer_size = 5  # 隠れ層が5層\n",
    "# ここにアクティベーションの結果を格納する\n",
    "activations = {}\n",
    "\n",
    "x = input_data\n",
    "\n",
    "for i in range(hidden_layer_size):\n",
    "    if i != 0:\n",
    "        x = activations[i-1]\n",
    "        \n",
    "#     w = np.random.randn(node_num, node_num) * 1\n",
    "#     w = np.random.randn(node_num, node_num) * 0.01\n",
    "\n",
    "# Xavier の初期値を重みの初期値設定に用いて計算してみる\n",
    "    w = np.random.randn(node_num, node_num) / np.sqrt(node_num)\n",
    "    \n",
    "    \n",
    "    a = np.dot(x, w)\n",
    "    \n",
    "    z = tanh(a)\n",
    "    activations[i] = z\n",
    "    \n",
    "print(activations)\n",
    "# ヒストグラムを描画\n",
    "for i, a in activations.items():\n",
    "    plt.subplot(1, len(activations), i+1)\n",
    "    plt.title(str(i+1) + \"-layer\")\n",
    "    if i != 0: plt.yticks([], [])\n",
    "    plt.hist(a.flatten(), 30, range=(0,1))\n",
    "    \n",
    "plt.show()"
   ]
  },
  {
   "cell_type": "markdown",
   "id": "104eafb6",
   "metadata": {},
   "source": [
    "### 現時点でのベストプラクティス\n",
    "活性化関数にReLUを使う場合は「Heの初期値」，sigmoidやtanhなどのS字カーブのときは，「Xavierの初期値」を使うこと．"
   ]
  },
  {
   "cell_type": "markdown",
   "id": "02b2896b",
   "metadata": {},
   "source": [
    "### MNISTデータセットによる重みの初期値の比較\n",
    "実際のデータを対象に，重みの初期値の与え方の違いによって，ニューラルネットワークの学習にどれだけ影響を与えるか見てみる．"
   ]
  },
  {
   "cell_type": "markdown",
   "id": "2d4fd2f1",
   "metadata": {},
   "source": [
    "## 6-3. Batch Normalization"
   ]
  },
  {
   "cell_type": "markdown",
   "id": "8a4109ab",
   "metadata": {},
   "source": [
    "前節の重みの初期値では，各層のアクティベーションの分布を観察した．そこで学んだことは，重みの初期値を適切に設定すれば，各層のアクティベーションの分布は適度な広がりを持ち，学習がスムーズに行えるということでした．それでは，各層で適度な広がりを持つように，強制的にアクティベーションの分布を調整してみてはどうでしょうか．実はそのようなアイデアをベースとする手法がBatch Normalizationなのです．"
   ]
  },
  {
   "cell_type": "markdown",
   "id": "c95ac2dc",
   "metadata": {},
   "source": [
    "### Batch Normalizationのアルゴリズム\n",
    "Batch Normalizationは，2015年に提案された手法です．Batch Normは，まだ世に出て間もない新しい手法であるにも関わらず，多くの研究者や技術者に広く使われています．実際，機械学習のコンペティションの結果を見てみると，このBatch Normを使用して，優れた結果を達成している例が多く見られます．\n",
    "\n",
    "### Batch Normの利点\n",
    "学習を早く進行させることができる．（学習係数を大きくすることができる）\n",
    "\n",
    "初期値にそれほど依存しない（初期値に対してそこまで神経質にならなくてよい）\n",
    "\n",
    "過学習を抑制する（Dropoutなどの必要性を減らす）"
   ]
  },
  {
   "cell_type": "markdown",
   "id": "a5507407",
   "metadata": {},
   "source": [
    "## 6-4. 正則化"
   ]
  },
  {
   "cell_type": "code",
   "execution_count": 16,
   "id": "c6628f84",
   "metadata": {},
   "outputs": [],
   "source": [
    "# -*- coding;utf-8 -*-\n",
    "\n",
    "import random\n",
    "import numpy as np\n",
    "\n",
    "# Dropout\n",
    "\n",
    "class Dropout:\n",
    "    def __init__(self, dropout_ratio=0.5):\n",
    "        self.dropout_ratio = dropout_ratio\n",
    "        self.mask = None\n",
    "    def forward(self, x, train_flg=True):\n",
    "        if train_flg:\n",
    "            # xと同じ形状の配列をランダムに生成，drop_ratioより大きい要素がTrue\n",
    "            self.mask = np.random.rand(*x.shape) > self.dropout_ratio\n",
    "            return x * self.mask\n",
    "        else:\n",
    "            return x * (1.0 - self.dropout_ratio)\n",
    "    def backward(self, dout):\n",
    "        return dout * self.mask"
   ]
  },
  {
   "cell_type": "markdown",
   "id": "75476265",
   "metadata": {},
   "source": [
    "## 6-5. ハイパーパラメータの検証"
   ]
  },
  {
   "cell_type": "code",
   "execution_count": 22,
   "id": "dc483755",
   "metadata": {},
   "outputs": [
    {
     "name": "stdout",
     "output_type": "stream",
     "text": [
      "val acc:0.11 | lr:0.0002288822853137688, weight decay:5.9461834590791535e-05\n",
      "val acc:0.09 | lr:2.869922484109035e-06, weight decay:2.2477590887461148e-05\n",
      "val acc:0.11 | lr:1.4471106291007841e-05, weight decay:1.1796504292719086e-08\n",
      "val acc:0.13 | lr:0.0001286945095589172, weight decay:1.559640739601744e-05\n",
      "val acc:0.34 | lr:0.00216773880454665, weight decay:8.00139467806791e-07\n",
      "val acc:0.1 | lr:0.00014639462940839256, weight decay:2.674715111645526e-05\n",
      "val acc:0.09 | lr:8.257268132284985e-06, weight decay:1.7410748787507874e-07\n",
      "val acc:0.08 | lr:4.7119218121768805e-06, weight decay:2.718185101111719e-07\n",
      "val acc:0.06 | lr:0.0004418248935823863, weight decay:8.801680499179578e-08\n",
      "val acc:0.3 | lr:0.0010500888643170106, weight decay:1.5620008500365605e-08\n",
      "val acc:0.07 | lr:1.0508937658262515e-05, weight decay:2.8160768921427477e-05\n",
      "val acc:0.09 | lr:0.00018104483187556629, weight decay:1.6705441855841138e-05\n",
      "val acc:0.06 | lr:5.102216528677106e-05, weight decay:7.618668810877756e-08\n",
      "val acc:0.08 | lr:1.5800517779054747e-05, weight decay:9.474512197218672e-06\n",
      "val acc:0.21 | lr:0.0015157014288743025, weight decay:1.6695534736686056e-06\n",
      "val acc:0.1 | lr:6.7280508420545915e-06, weight decay:1.0737177808845085e-05\n",
      "val acc:0.04 | lr:5.525614599843141e-05, weight decay:1.5476452934041095e-05\n",
      "val acc:0.31 | lr:0.0026140471201712644, weight decay:7.253998953319493e-05\n",
      "val acc:0.16 | lr:2.4717888036142513e-06, weight decay:9.169294716138783e-05\n",
      "val acc:0.11 | lr:8.355481938092544e-06, weight decay:6.539652339973805e-07\n",
      "val acc:0.11 | lr:1.0985613367006605e-06, weight decay:3.753695773955395e-05\n",
      "val acc:0.07 | lr:1.8611701994327723e-06, weight decay:1.4432387971860915e-05\n",
      "val acc:0.17 | lr:0.0005239094227937248, weight decay:1.533774518007488e-08\n",
      "val acc:0.05 | lr:0.00031394002395643186, weight decay:1.5288360416196196e-05\n",
      "val acc:0.1 | lr:0.00010175695046821576, weight decay:1.8471633591224593e-07\n",
      "val acc:0.08 | lr:0.00018272147721083162, weight decay:8.834860904114513e-05\n",
      "val acc:0.08 | lr:7.848172551693596e-06, weight decay:7.560918625822845e-06\n",
      "val acc:0.11 | lr:1.87466535465683e-05, weight decay:1.524030998986605e-05\n",
      "val acc:0.1 | lr:1.2846885663829712e-05, weight decay:1.5183195657884078e-05\n",
      "val acc:0.1 | lr:3.128335691519894e-05, weight decay:1.0077184397449916e-05\n",
      "val acc:0.08 | lr:0.0005535388041363436, weight decay:7.2914672030261e-06\n",
      "val acc:0.09 | lr:8.101902738046888e-06, weight decay:1.0241190224636363e-07\n",
      "val acc:0.43 | lr:0.004211895179990113, weight decay:3.595787524582881e-06\n",
      "val acc:0.12 | lr:9.81191069452863e-06, weight decay:9.621296758268327e-07\n",
      "val acc:0.11 | lr:1.2222287460765285e-05, weight decay:2.982677538094431e-07\n",
      "val acc:0.11 | lr:3.979367311460702e-05, weight decay:7.933972628438581e-08\n",
      "val acc:0.16 | lr:7.137048156632981e-05, weight decay:4.03303611607671e-05\n",
      "val acc:0.12 | lr:3.2469698004423885e-06, weight decay:3.0246658326768803e-08\n",
      "val acc:0.13 | lr:3.997458113550237e-06, weight decay:2.2782834215074719e-07\n",
      "val acc:0.12 | lr:5.956709977122175e-05, weight decay:2.8006622381917576e-08\n",
      "val acc:0.14 | lr:1.8618029869226592e-05, weight decay:9.368126780876727e-05\n",
      "val acc:0.64 | lr:0.006832974645371961, weight decay:4.062100245324838e-08\n",
      "val acc:0.18 | lr:0.0005959560893609957, weight decay:6.1245497974519654e-06\n",
      "val acc:0.15 | lr:0.0006989698411372389, weight decay:3.3229644811963997e-07\n",
      "val acc:0.19 | lr:0.0010371765241177025, weight decay:2.0044271848793162e-08\n",
      "val acc:0.13 | lr:1.3463475622135833e-05, weight decay:7.80213780539299e-05\n",
      "val acc:0.13 | lr:1.466788980961543e-05, weight decay:2.068948465088394e-06\n",
      "val acc:0.09 | lr:1.3441873390995148e-06, weight decay:1.4417562379761772e-08\n",
      "val acc:0.08 | lr:3.694260268132565e-06, weight decay:4.113809722546508e-08\n",
      "val acc:0.11 | lr:3.567584717211145e-06, weight decay:1.0681386091901357e-07\n",
      "val acc:0.04 | lr:2.4069967064635846e-06, weight decay:9.04612408844511e-07\n",
      "val acc:0.08 | lr:0.0007394522639502757, weight decay:1.6937444015566775e-06\n",
      "val acc:0.15 | lr:4.457402775499244e-06, weight decay:5.561320053333882e-08\n",
      "val acc:0.16 | lr:0.0011191425586369686, weight decay:1.1894546685498638e-05\n",
      "val acc:0.1 | lr:4.921421197169801e-05, weight decay:4.4720473710266596e-07\n",
      "val acc:0.07 | lr:1.4804890314927514e-06, weight decay:1.6233102265938294e-07\n",
      "val acc:0.08 | lr:1.6985522250606022e-06, weight decay:4.197300394123876e-06\n",
      "val acc:0.12 | lr:1.833471965060205e-05, weight decay:1.6007250335931734e-07\n",
      "val acc:0.31 | lr:0.0009147902251899868, weight decay:1.6341131992520358e-08\n",
      "val acc:0.57 | lr:0.004691319832361116, weight decay:2.465989504586723e-06\n",
      "val acc:0.55 | lr:0.0055123112077705, weight decay:3.478191718202291e-07\n",
      "val acc:0.44 | lr:0.0015154845706013722, weight decay:5.635601691982477e-06\n",
      "val acc:0.03 | lr:1.2507601724475878e-06, weight decay:1.78678232693669e-06\n",
      "val acc:0.07 | lr:2.7983575760963708e-06, weight decay:4.640197617191776e-06\n",
      "val acc:0.54 | lr:0.0049251830068921245, weight decay:1.3508614434940875e-06\n",
      "val acc:0.7 | lr:0.009219360796927312, weight decay:9.948925583284466e-06\n",
      "val acc:0.09 | lr:2.364424231818566e-05, weight decay:2.3588016915357422e-05\n",
      "val acc:0.22 | lr:0.0015277927247486273, weight decay:2.0165392959065412e-07\n",
      "val acc:0.07 | lr:7.661418559843827e-05, weight decay:1.4763146497131215e-06\n",
      "val acc:0.17 | lr:0.0011139936491734858, weight decay:2.822731640223011e-07\n",
      "val acc:0.16 | lr:0.000299863397287471, weight decay:1.3983708815748564e-08\n",
      "val acc:0.14 | lr:1.7931530975389818e-05, weight decay:3.759013688385104e-06\n",
      "val acc:0.06 | lr:3.1381662125179637e-06, weight decay:2.987569620590796e-08\n",
      "val acc:0.1 | lr:0.0003291134963477727, weight decay:1.4178528845769025e-06\n",
      "val acc:0.07 | lr:8.277384132449665e-06, weight decay:4.911533710987547e-07\n",
      "val acc:0.17 | lr:0.0001511947805868128, weight decay:1.5115433862892245e-05\n",
      "val acc:0.16 | lr:0.0009010159711862641, weight decay:4.776427229893823e-07\n",
      "val acc:0.12 | lr:0.0009928880867237232, weight decay:1.208322620322642e-07\n",
      "val acc:0.07 | lr:1.33724212761718e-06, weight decay:4.911300845175949e-06\n",
      "val acc:0.06 | lr:1.757599239279598e-06, weight decay:1.1024633522076546e-07\n",
      "val acc:0.34 | lr:0.0031465143092504005, weight decay:7.726451826806206e-06\n",
      "val acc:0.11 | lr:3.276671723638542e-05, weight decay:7.562465433185286e-06\n",
      "val acc:0.11 | lr:9.799026703200342e-06, weight decay:4.763871401067794e-08\n",
      "val acc:0.32 | lr:0.00125347662402798, weight decay:4.455932526401519e-07\n",
      "val acc:0.11 | lr:9.264962182146529e-06, weight decay:8.54230638455701e-07\n",
      "val acc:0.09 | lr:3.1692019102198326e-06, weight decay:2.349143329248943e-07\n",
      "val acc:0.57 | lr:0.004221335996760324, weight decay:5.600868376796903e-08\n",
      "val acc:0.07 | lr:7.827447089887106e-05, weight decay:1.258511021968576e-07\n",
      "val acc:0.6 | lr:0.007001944722823618, weight decay:3.4505045752419034e-05\n",
      "val acc:0.08 | lr:6.387409346077554e-05, weight decay:1.518460828344788e-08\n",
      "val acc:0.06 | lr:1.0920516582726059e-05, weight decay:1.471146319271175e-07\n",
      "val acc:0.12 | lr:2.8144472315705627e-05, weight decay:6.800188223328357e-06\n",
      "val acc:0.12 | lr:0.00010810191350053166, weight decay:2.4130524035331342e-08\n",
      "val acc:0.14 | lr:3.6406051307954708e-06, weight decay:2.0743100876174412e-08\n",
      "val acc:0.09 | lr:1.0923291847982891e-05, weight decay:4.6077438606944444e-06\n",
      "val acc:0.13 | lr:0.00016541508130966652, weight decay:6.136307020432777e-05\n",
      "val acc:0.11 | lr:0.0006619557350303802, weight decay:7.684789598723107e-05\n",
      "val acc:0.07 | lr:7.450505901820274e-05, weight decay:1.8526970055843756e-05\n",
      "val acc:0.09 | lr:4.207984528456675e-06, weight decay:3.3315952272183415e-06\n",
      "val acc:0.63 | lr:0.006798520659260662, weight decay:1.238338472516435e-07\n",
      "===============Hyper-Parameter Optimization Result================\n",
      "Best-1(val acc:0.63) | lr;0.009219360796927312, weight decay:9.948925583284466e-06\n"
     ]
    },
    {
     "data": {
      "image/png": "[encoded data removed]",
      "text/plain": [
       "<Figure size 432x288 with 1 Axes>"
      ]
     },
     "metadata": {
      "needs_background": "light"
     },
     "output_type": "display_data"
    },
    {
     "name": "stdout",
     "output_type": "stream",
     "text": [
      "Best-1(val acc:0.63) | lr;0.006832974645371961, weight decay:4.062100245324838e-08\n"
     ]
    },
    {
     "data": {
      "image/png": "[encoded data removed]",
      "text/plain": [
       "<Figure size 432x288 with 1 Axes>"
      ]
     },
     "metadata": {
      "needs_background": "light"
     },
     "output_type": "display_data"
    },
    {
     "name": "stdout",
     "output_type": "stream",
     "text": [
      "Best-1(val acc:0.63) | lr;0.006798520659260662, weight decay:1.238338472516435e-07\n"
     ]
    },
    {
     "data": {
      "image/png": "[encoded data removed]",
      "text/plain": [
       "<Figure size 432x288 with 1 Axes>"
      ]
     },
     "metadata": {
      "needs_background": "light"
     },
     "output_type": "display_data"
    },
    {
     "name": "stdout",
     "output_type": "stream",
     "text": [
      "Best-1(val acc:0.63) | lr;0.007001944722823618, weight decay:3.4505045752419034e-05\n"
     ]
    },
    {
     "data": {
      "image/png": "[encoded data removed]",
      "text/plain": [
       "<Figure size 432x288 with 1 Axes>"
      ]
     },
     "metadata": {
      "needs_background": "light"
     },
     "output_type": "display_data"
    },
    {
     "name": "stdout",
     "output_type": "stream",
     "text": [
      "Best-1(val acc:0.63) | lr;0.004691319832361116, weight decay:2.465989504586723e-06\n"
     ]
    },
    {
     "data": {
      "image/png": "[encoded data removed]",
      "text/plain": [
       "<Figure size 432x288 with 1 Axes>"
      ]
     },
     "metadata": {
      "needs_background": "light"
     },
     "output_type": "display_data"
    },
    {
     "name": "stdout",
     "output_type": "stream",
     "text": [
      "Best-1(val acc:0.63) | lr;0.004221335996760324, weight decay:5.600868376796903e-08\n"
     ]
    },
    {
     "data": {
      "image/png": "[encoded data removed]",
      "text/plain": [
       "<Figure size 432x288 with 1 Axes>"
      ]
     },
     "metadata": {
      "needs_background": "light"
     },
     "output_type": "display_data"
    },
    {
     "name": "stdout",
     "output_type": "stream",
     "text": [
      "Best-1(val acc:0.63) | lr;0.0055123112077705, weight decay:3.478191718202291e-07\n"
     ]
    },
    {
     "data": {
      "image/png": "[encoded data removed]",
      "text/plain": [
       "<Figure size 432x288 with 1 Axes>"
      ]
     },
     "metadata": {
      "needs_background": "light"
     },
     "output_type": "display_data"
    },
    {
     "name": "stdout",
     "output_type": "stream",
     "text": [
      "Best-1(val acc:0.63) | lr;0.0049251830068921245, weight decay:1.3508614434940875e-06\n"
     ]
    },
    {
     "data": {
      "image/png": "[encoded data removed]",
      "text/plain": [
       "<Figure size 432x288 with 1 Axes>"
      ]
     },
     "metadata": {
      "needs_background": "light"
     },
     "output_type": "display_data"
    },
    {
     "name": "stdout",
     "output_type": "stream",
     "text": [
      "Best-1(val acc:0.63) | lr;0.0015154845706013722, weight decay:5.635601691982477e-06\n"
     ]
    },
    {
     "data": {
      "image/png": "[encoded data removed]",
      "text/plain": [
       "<Figure size 432x288 with 1 Axes>"
      ]
     },
     "metadata": {
      "needs_background": "light"
     },
     "output_type": "display_data"
    },
    {
     "name": "stdout",
     "output_type": "stream",
     "text": [
      "Best-1(val acc:0.63) | lr;0.004211895179990113, weight decay:3.595787524582881e-06\n"
     ]
    },
    {
     "data": {
      "image/png": "[encoded data removed]",
      "text/plain": [
       "<Figure size 432x288 with 1 Axes>"
      ]
     },
     "metadata": {
      "needs_background": "light"
     },
     "output_type": "display_data"
    },
    {
     "name": "stdout",
     "output_type": "stream",
     "text": [
      "Best-1(val acc:0.63) | lr;0.00216773880454665, weight decay:8.00139467806791e-07\n"
     ]
    },
    {
     "data": {
      "image/png": "[encoded data removed]",
      "text/plain": [
       "<Figure size 432x288 with 1 Axes>"
      ]
     },
     "metadata": {
      "needs_background": "light"
     },
     "output_type": "display_data"
    },
    {
     "name": "stdout",
     "output_type": "stream",
     "text": [
      "Best-1(val acc:0.63) | lr;0.0031465143092504005, weight decay:7.726451826806206e-06\n"
     ]
    },
    {
     "data": {
      "image/png": "[encoded data removed]",
      "text/plain": [
       "<Figure size 432x288 with 1 Axes>"
      ]
     },
     "metadata": {
      "needs_background": "light"
     },
     "output_type": "display_data"
    },
    {
     "name": "stdout",
     "output_type": "stream",
     "text": [
      "Best-1(val acc:0.63) | lr;0.00125347662402798, weight decay:4.455932526401519e-07\n"
     ]
    },
    {
     "data": {
      "image/png": "[encoded data removed]",
      "text/plain": [
       "<Figure size 432x288 with 1 Axes>"
      ]
     },
     "metadata": {
      "needs_background": "light"
     },
     "output_type": "display_data"
    },
    {
     "name": "stdout",
     "output_type": "stream",
     "text": [
      "Best-1(val acc:0.63) | lr;0.0026140471201712644, weight decay:7.253998953319493e-05\n"
     ]
    },
    {
     "data": {
      "image/png": "[encoded data removed]",
      "text/plain": [
       "<Figure size 432x288 with 1 Axes>"
      ]
     },
     "metadata": {
      "needs_background": "light"
     },
     "output_type": "display_data"
    },
    {
     "name": "stdout",
     "output_type": "stream",
     "text": [
      "Best-1(val acc:0.63) | lr;0.0009147902251899868, weight decay:1.6341131992520358e-08\n"
     ]
    },
    {
     "data": {
      "image/png": "[encoded data removed]",
      "text/plain": [
       "<Figure size 432x288 with 1 Axes>"
      ]
     },
     "metadata": {
      "needs_background": "light"
     },
     "output_type": "display_data"
    },
    {
     "name": "stdout",
     "output_type": "stream",
     "text": [
      "Best-1(val acc:0.63) | lr;0.0010500888643170106, weight decay:1.5620008500365605e-08\n"
     ]
    },
    {
     "data": {
      "image/png": "[encoded data removed]",
      "text/plain": [
       "<Figure size 432x288 with 1 Axes>"
      ]
     },
     "metadata": {
      "needs_background": "light"
     },
     "output_type": "display_data"
    },
    {
     "name": "stdout",
     "output_type": "stream",
     "text": [
      "Best-1(val acc:0.63) | lr;0.0015277927247486273, weight decay:2.0165392959065412e-07\n"
     ]
    },
    {
     "data": {
      "image/png": "[encoded data removed]",
      "text/plain": [
       "<Figure size 432x288 with 1 Axes>"
      ]
     },
     "metadata": {
      "needs_background": "light"
     },
     "output_type": "display_data"
    },
    {
     "name": "stdout",
     "output_type": "stream",
     "text": [
      "Best-1(val acc:0.63) | lr;0.0015157014288743025, weight decay:1.6695534736686056e-06\n"
     ]
    },
    {
     "data": {
      "image/png": "[encoded data removed]",
      "text/plain": [
       "<Figure size 432x288 with 1 Axes>"
      ]
     },
     "metadata": {
      "needs_background": "light"
     },
     "output_type": "display_data"
    },
    {
     "name": "stdout",
     "output_type": "stream",
     "text": [
      "Best-1(val acc:0.63) | lr;0.0010371765241177025, weight decay:2.0044271848793162e-08\n"
     ]
    },
    {
     "data": {
      "image/png": "[encoded data removed]",
      "text/plain": [
       "<Figure size 432x288 with 1 Axes>"
      ]
     },
     "metadata": {
      "needs_background": "light"
     },
     "output_type": "display_data"
    },
    {
     "name": "stdout",
     "output_type": "stream",
     "text": [
      "Best-1(val acc:0.63) | lr;0.0005959560893609957, weight decay:6.1245497974519654e-06\n"
     ]
    },
    {
     "data": {
      "image/png": "[encoded data removed]",
      "text/plain": [
       "<Figure size 432x288 with 1 Axes>"
      ]
     },
     "metadata": {
      "needs_background": "light"
     },
     "output_type": "display_data"
    },
    {
     "name": "stdout",
     "output_type": "stream",
     "text": [
      "Best-1(val acc:0.63) | lr;0.0005239094227937248, weight decay:1.533774518007488e-08\n"
     ]
    },
    {
     "data": {
      "image/png": "[encoded data removed]",
      "text/plain": [
       "<Figure size 432x288 with 1 Axes>"
      ]
     },
     "metadata": {
      "needs_background": "light"
     },
     "output_type": "display_data"
    },
    {
     "name": "stdout",
     "output_type": "stream",
     "text": [
      "Best-1(val acc:0.63) | lr;0.0011139936491734858, weight decay:2.822731640223011e-07\n"
     ]
    },
    {
     "data": {
      "image/png": "[encoded data removed]",
      "text/plain": [
       "<Figure size 432x288 with 1 Axes>"
      ]
     },
     "metadata": {
      "needs_background": "light"
     },
     "output_type": "display_data"
    },
    {
     "name": "stdout",
     "output_type": "stream",
     "text": [
      "Best-1(val acc:0.63) | lr;0.0001511947805868128, weight decay:1.5115433862892245e-05\n"
     ]
    },
    {
     "data": {
      "image/png": "[encoded data removed]",
      "text/plain": [
       "<Figure size 432x288 with 1 Axes>"
      ]
     },
     "metadata": {
      "needs_background": "light"
     },
     "output_type": "display_data"
    },
    {
     "name": "stdout",
     "output_type": "stream",
     "text": [
      "Best-1(val acc:0.63) | lr;2.4717888036142513e-06, weight decay:9.169294716138783e-05\n"
     ]
    },
    {
     "data": {
      "image/png": "[encoded data removed]",
      "text/plain": [
       "<Figure size 432x288 with 1 Axes>"
      ]
     },
     "metadata": {
      "needs_background": "light"
     },
     "output_type": "display_data"
    },
    {
     "name": "stdout",
     "output_type": "stream",
     "text": [
      "Best-1(val acc:0.63) | lr;7.137048156632981e-05, weight decay:4.03303611607671e-05\n"
     ]
    },
    {
     "data": {
      "image/png": "[encoded data removed]",
      "text/plain": [
       "<Figure size 432x288 with 1 Axes>"
      ]
     },
     "metadata": {
      "needs_background": "light"
     },
     "output_type": "display_data"
    },
    {
     "name": "stdout",
     "output_type": "stream",
     "text": [
      "Best-1(val acc:0.63) | lr;0.0011191425586369686, weight decay:1.1894546685498638e-05\n"
     ]
    },
    {
     "data": {
      "image/png": "[encoded data removed]",
      "text/plain": [
       "<Figure size 432x288 with 1 Axes>"
      ]
     },
     "metadata": {
      "needs_background": "light"
     },
     "output_type": "display_data"
    },
    {
     "name": "stdout",
     "output_type": "stream",
     "text": [
      "Best-1(val acc:0.63) | lr;0.000299863397287471, weight decay:1.3983708815748564e-08\n"
     ]
    },
    {
     "data": {
      "image/png": "[encoded data removed]",
      "text/plain": [
       "<Figure size 432x288 with 1 Axes>"
      ]
     },
     "metadata": {
      "needs_background": "light"
     },
     "output_type": "display_data"
    },
    {
     "name": "stdout",
     "output_type": "stream",
     "text": [
      "Best-1(val acc:0.63) | lr;0.0009010159711862641, weight decay:4.776427229893823e-07\n"
     ]
    },
    {
     "data": {
      "image/png": "[encoded data removed]",
      "text/plain": [
       "<Figure size 432x288 with 1 Axes>"
      ]
     },
     "metadata": {
      "needs_background": "light"
     },
     "output_type": "display_data"
    },
    {
     "name": "stdout",
     "output_type": "stream",
     "text": [
      "Best-1(val acc:0.63) | lr;0.0006989698411372389, weight decay:3.3229644811963997e-07\n"
     ]
    },
    {
     "data": {
      "image/png": "[encoded data removed]",
      "text/plain": [
       "<Figure size 432x288 with 1 Axes>"
      ]
     },
     "metadata": {
      "needs_background": "light"
     },
     "output_type": "display_data"
    },
    {
     "name": "stdout",
     "output_type": "stream",
     "text": [
      "Best-1(val acc:0.63) | lr;4.457402775499244e-06, weight decay:5.561320053333882e-08\n"
     ]
    },
    {
     "data": {
      "image/png": "[encoded data removed]",
      "text/plain": [
       "<Figure size 432x288 with 1 Axes>"
      ]
     },
     "metadata": {
      "needs_background": "light"
     },
     "output_type": "display_data"
    },
    {
     "name": "stdout",
     "output_type": "stream",
     "text": [
      "Best-1(val acc:0.63) | lr;1.8618029869226592e-05, weight decay:9.368126780876727e-05\n"
     ]
    },
    {
     "data": {
      "image/png": "[encoded data removed]",
      "text/plain": [
       "<Figure size 432x288 with 1 Axes>"
      ]
     },
     "metadata": {
      "needs_background": "light"
     },
     "output_type": "display_data"
    },
    {
     "name": "stdout",
     "output_type": "stream",
     "text": [
      "Best-1(val acc:0.63) | lr;1.7931530975389818e-05, weight decay:3.759013688385104e-06\n"
     ]
    },
    {
     "data": {
      "image/png": "[encoded data removed]",
      "text/plain": [
       "<Figure size 432x288 with 1 Axes>"
      ]
     },
     "metadata": {
      "needs_background": "light"
     },
     "output_type": "display_data"
    },
    {
     "name": "stdout",
     "output_type": "stream",
     "text": [
      "Best-1(val acc:0.63) | lr;3.6406051307954708e-06, weight decay:2.0743100876174412e-08\n"
     ]
    },
    {
     "data": {
      "image/png": "[encoded data removed]",
      "text/plain": [
       "<Figure size 432x288 with 1 Axes>"
      ]
     },
     "metadata": {
      "needs_background": "light"
     },
     "output_type": "display_data"
    },
    {
     "name": "stdout",
     "output_type": "stream",
     "text": [
      "Best-1(val acc:0.63) | lr;0.0001286945095589172, weight decay:1.559640739601744e-05\n"
     ]
    },
    {
     "data": {
      "image/png": "[encoded data removed]",
      "text/plain": [
       "<Figure size 432x288 with 1 Axes>"
      ]
     },
     "metadata": {
      "needs_background": "light"
     },
     "output_type": "display_data"
    },
    {
     "name": "stdout",
     "output_type": "stream",
     "text": [
      "Best-1(val acc:0.63) | lr;3.997458113550237e-06, weight decay:2.2782834215074719e-07\n"
     ]
    },
    {
     "data": {
      "image/png": "[encoded data removed]",
      "text/plain": [
       "<Figure size 432x288 with 1 Axes>"
      ]
     },
     "metadata": {
      "needs_background": "light"
     },
     "output_type": "display_data"
    },
    {
     "name": "stdout",
     "output_type": "stream",
     "text": [
      "Best-1(val acc:0.63) | lr;1.3463475622135833e-05, weight decay:7.80213780539299e-05\n"
     ]
    },
    {
     "data": {
      "image/png": "[encoded data removed]",
      "text/plain": [
       "<Figure size 432x288 with 1 Axes>"
      ]
     },
     "metadata": {
      "needs_background": "light"
     },
     "output_type": "display_data"
    },
    {
     "name": "stdout",
     "output_type": "stream",
     "text": [
      "Best-1(val acc:0.63) | lr;1.466788980961543e-05, weight decay:2.068948465088394e-06\n"
     ]
    },
    {
     "data": {
      "image/png": "[encoded data removed]",
      "text/plain": [
       "<Figure size 432x288 with 1 Axes>"
      ]
     },
     "metadata": {
      "needs_background": "light"
     },
     "output_type": "display_data"
    },
    {
     "name": "stdout",
     "output_type": "stream",
     "text": [
      "Best-1(val acc:0.63) | lr;0.00016541508130966652, weight decay:6.136307020432777e-05\n"
     ]
    },
    {
     "data": {
      "image/png": "[encoded data removed]",
      "text/plain": [
       "<Figure size 432x288 with 1 Axes>"
      ]
     },
     "metadata": {
      "needs_background": "light"
     },
     "output_type": "display_data"
    },
    {
     "name": "stdout",
     "output_type": "stream",
     "text": [
      "Best-1(val acc:0.63) | lr;9.81191069452863e-06, weight decay:9.621296758268327e-07\n"
     ]
    },
    {
     "data": {
      "image/png": "[encoded data removed]",
      "text/plain": [
       "<Figure size 432x288 with 1 Axes>"
      ]
     },
     "metadata": {
      "needs_background": "light"
     },
     "output_type": "display_data"
    },
    {
     "name": "stdout",
     "output_type": "stream",
     "text": [
      "Best-1(val acc:0.63) | lr;3.2469698004423885e-06, weight decay:3.0246658326768803e-08\n"
     ]
    },
    {
     "data": {
      "image/png": "[encoded data removed]",
      "text/plain": [
       "<Figure size 432x288 with 1 Axes>"
      ]
     },
     "metadata": {
      "needs_background": "light"
     },
     "output_type": "display_data"
    },
    {
     "name": "stdout",
     "output_type": "stream",
     "text": [
      "Best-1(val acc:0.63) | lr;5.956709977122175e-05, weight decay:2.8006622381917576e-08\n"
     ]
    },
    {
     "data": {
      "image/png": "[encoded data removed]",
      "text/plain": [
       "<Figure size 432x288 with 1 Axes>"
      ]
     },
     "metadata": {
      "needs_background": "light"
     },
     "output_type": "display_data"
    },
    {
     "name": "stdout",
     "output_type": "stream",
     "text": [
      "Best-1(val acc:0.63) | lr;1.833471965060205e-05, weight decay:1.6007250335931734e-07\n"
     ]
    },
    {
     "data": {
      "image/png": "[encoded data removed]",
      "text/plain": [
       "<Figure size 432x288 with 1 Axes>"
      ]
     },
     "metadata": {
      "needs_background": "light"
     },
     "output_type": "display_data"
    },
    {
     "name": "stdout",
     "output_type": "stream",
     "text": [
      "Best-1(val acc:0.63) | lr;0.0009928880867237232, weight decay:1.208322620322642e-07\n"
     ]
    },
    {
     "data": {
      "image/png": "[encoded data removed]",
      "text/plain": [
       "<Figure size 432x288 with 1 Axes>"
      ]
     },
     "metadata": {
      "needs_background": "light"
     },
     "output_type": "display_data"
    },
    {
     "name": "stdout",
     "output_type": "stream",
     "text": [
      "Best-1(val acc:0.63) | lr;2.8144472315705627e-05, weight decay:6.800188223328357e-06\n"
     ]
    },
    {
     "data": {
      "image/png": "[encoded data removed]",
      "text/plain": [
       "<Figure size 432x288 with 1 Axes>"
      ]
     },
     "metadata": {
      "needs_background": "light"
     },
     "output_type": "display_data"
    },
    {
     "name": "stdout",
     "output_type": "stream",
     "text": [
      "Best-1(val acc:0.63) | lr;0.00010810191350053166, weight decay:2.4130524035331342e-08\n"
     ]
    },
    {
     "data": {
      "image/png": "[encoded data removed]",
      "text/plain": [
       "<Figure size 432x288 with 1 Axes>"
      ]
     },
     "metadata": {
      "needs_background": "light"
     },
     "output_type": "display_data"
    },
    {
     "name": "stdout",
     "output_type": "stream",
     "text": [
      "Best-1(val acc:0.63) | lr;0.0002288822853137688, weight decay:5.9461834590791535e-05\n"
     ]
    },
    {
     "data": {
      "image/png": "[encoded data removed]",
      "text/plain": [
       "<Figure size 432x288 with 1 Axes>"
      ]
     },
     "metadata": {
      "needs_background": "light"
     },
     "output_type": "display_data"
    },
    {
     "name": "stdout",
     "output_type": "stream",
     "text": [
      "Best-1(val acc:0.63) | lr;1.4471106291007841e-05, weight decay:1.1796504292719086e-08\n"
     ]
    },
    {
     "data": {
      "image/png": "[encoded data removed]",
      "text/plain": [
       "<Figure size 432x288 with 1 Axes>"
      ]
     },
     "metadata": {
      "needs_background": "light"
     },
     "output_type": "display_data"
    },
    {
     "name": "stdout",
     "output_type": "stream",
     "text": [
      "Best-1(val acc:0.63) | lr;8.355481938092544e-06, weight decay:6.539652339973805e-07\n"
     ]
    },
    {
     "data": {
      "image/png": "[encoded data removed]",
      "text/plain": [
       "<Figure size 432x288 with 1 Axes>"
      ]
     },
     "metadata": {
      "needs_background": "light"
     },
     "output_type": "display_data"
    },
    {
     "name": "stdout",
     "output_type": "stream",
     "text": [
      "Best-1(val acc:0.63) | lr;1.0985613367006605e-06, weight decay:3.753695773955395e-05\n"
     ]
    },
    {
     "data": {
      "image/png": "[encoded data removed]",
      "text/plain": [
       "<Figure size 432x288 with 1 Axes>"
      ]
     },
     "metadata": {
      "needs_background": "light"
     },
     "output_type": "display_data"
    },
    {
     "name": "stdout",
     "output_type": "stream",
     "text": [
      "Best-1(val acc:0.63) | lr;1.87466535465683e-05, weight decay:1.524030998986605e-05\n"
     ]
    },
    {
     "data": {
      "image/png": "[encoded data removed]",
      "text/plain": [
       "<Figure size 432x288 with 1 Axes>"
      ]
     },
     "metadata": {
      "needs_background": "light"
     },
     "output_type": "display_data"
    },
    {
     "name": "stdout",
     "output_type": "stream",
     "text": [
      "Best-1(val acc:0.63) | lr;1.2222287460765285e-05, weight decay:2.982677538094431e-07\n"
     ]
    },
    {
     "data": {
      "image/png": "[encoded data removed]",
      "text/plain": [
       "<Figure size 432x288 with 1 Axes>"
      ]
     },
     "metadata": {
      "needs_background": "light"
     },
     "output_type": "display_data"
    },
    {
     "name": "stdout",
     "output_type": "stream",
     "text": [
      "Best-1(val acc:0.63) | lr;3.979367311460702e-05, weight decay:7.933972628438581e-08\n"
     ]
    },
    {
     "data": {
      "image/png": "[encoded data removed]",
      "text/plain": [
       "<Figure size 432x288 with 1 Axes>"
      ]
     },
     "metadata": {
      "needs_background": "light"
     },
     "output_type": "display_data"
    },
    {
     "name": "stdout",
     "output_type": "stream",
     "text": [
      "Best-1(val acc:0.63) | lr;3.567584717211145e-06, weight decay:1.0681386091901357e-07\n"
     ]
    },
    {
     "data": {
      "image/png": "[encoded data removed]",
      "text/plain": [
       "<Figure size 432x288 with 1 Axes>"
      ]
     },
     "metadata": {
      "needs_background": "light"
     },
     "output_type": "display_data"
    },
    {
     "name": "stdout",
     "output_type": "stream",
     "text": [
      "Best-1(val acc:0.63) | lr;3.276671723638542e-05, weight decay:7.562465433185286e-06\n"
     ]
    },
    {
     "data": {
      "image/png": "[encoded data removed]",
      "text/plain": [
       "<Figure size 432x288 with 1 Axes>"
      ]
     },
     "metadata": {
      "needs_background": "light"
     },
     "output_type": "display_data"
    },
    {
     "name": "stdout",
     "output_type": "stream",
     "text": [
      "Best-1(val acc:0.63) | lr;9.799026703200342e-06, weight decay:4.763871401067794e-08\n"
     ]
    },
    {
     "data": {
      "image/png": "[encoded data removed]",
      "text/plain": [
       "<Figure size 432x288 with 1 Axes>"
      ]
     },
     "metadata": {
      "needs_background": "light"
     },
     "output_type": "display_data"
    },
    {
     "name": "stdout",
     "output_type": "stream",
     "text": [
      "Best-1(val acc:0.63) | lr;9.264962182146529e-06, weight decay:8.54230638455701e-07\n"
     ]
    },
    {
     "data": {
      "image/png": "[encoded data removed]",
      "text/plain": [
       "<Figure size 432x288 with 1 Axes>"
      ]
     },
     "metadata": {
      "needs_background": "light"
     },
     "output_type": "display_data"
    },
    {
     "name": "stdout",
     "output_type": "stream",
     "text": [
      "Best-1(val acc:0.63) | lr;0.0006619557350303802, weight decay:7.684789598723107e-05\n"
     ]
    },
    {
     "data": {
      "image/png": "[encoded data removed]",
      "text/plain": [
       "<Figure size 432x288 with 1 Axes>"
      ]
     },
     "metadata": {
      "needs_background": "light"
     },
     "output_type": "display_data"
    },
    {
     "name": "stdout",
     "output_type": "stream",
     "text": [
      "Best-1(val acc:0.63) | lr;0.00014639462940839256, weight decay:2.674715111645526e-05\n"
     ]
    },
    {
     "data": {
      "image/png": "[encoded data removed]",
      "text/plain": [
       "<Figure size 432x288 with 1 Axes>"
      ]
     },
     "metadata": {
      "needs_background": "light"
     },
     "output_type": "display_data"
    },
    {
     "name": "stdout",
     "output_type": "stream",
     "text": [
      "Best-1(val acc:0.63) | lr;6.7280508420545915e-06, weight decay:1.0737177808845085e-05\n"
     ]
    },
    {
     "data": {
      "image/png": "[encoded data removed]",
      "text/plain": [
       "<Figure size 432x288 with 1 Axes>"
      ]
     },
     "metadata": {
      "needs_background": "light"
     },
     "output_type": "display_data"
    },
    {
     "name": "stdout",
     "output_type": "stream",
     "text": [
      "Best-1(val acc:0.63) | lr;0.00010175695046821576, weight decay:1.8471633591224593e-07\n"
     ]
    },
    {
     "data": {
      "image/png": "[encoded data removed]",
      "text/plain": [
       "<Figure size 432x288 with 1 Axes>"
      ]
     },
     "metadata": {
      "needs_background": "light"
     },
     "output_type": "display_data"
    },
    {
     "name": "stdout",
     "output_type": "stream",
     "text": [
      "Best-1(val acc:0.63) | lr;1.2846885663829712e-05, weight decay:1.5183195657884078e-05\n"
     ]
    },
    {
     "data": {
      "image/png": "[encoded data removed]",
      "text/plain": [
       "<Figure size 432x288 with 1 Axes>"
      ]
     },
     "metadata": {
      "needs_background": "light"
     },
     "output_type": "display_data"
    },
    {
     "name": "stdout",
     "output_type": "stream",
     "text": [
      "Best-1(val acc:0.63) | lr;3.128335691519894e-05, weight decay:1.0077184397449916e-05\n"
     ]
    },
    {
     "data": {
      "image/png": "[encoded data removed]",
      "text/plain": [
       "<Figure size 432x288 with 1 Axes>"
      ]
     },
     "metadata": {
      "needs_background": "light"
     },
     "output_type": "display_data"
    },
    {
     "name": "stdout",
     "output_type": "stream",
     "text": [
      "Best-1(val acc:0.63) | lr;4.921421197169801e-05, weight decay:4.4720473710266596e-07\n"
     ]
    },
    {
     "data": {
      "image/png": "[encoded data removed]",
      "text/plain": [
       "<Figure size 432x288 with 1 Axes>"
      ]
     },
     "metadata": {
      "needs_background": "light"
     },
     "output_type": "display_data"
    },
    {
     "name": "stdout",
     "output_type": "stream",
     "text": [
      "Best-1(val acc:0.63) | lr;0.0003291134963477727, weight decay:1.4178528845769025e-06\n"
     ]
    },
    {
     "data": {
      "image/png": "[encoded data removed]",
      "text/plain": [
       "<Figure size 432x288 with 1 Axes>"
      ]
     },
     "metadata": {
      "needs_background": "light"
     },
     "output_type": "display_data"
    },
    {
     "name": "stdout",
     "output_type": "stream",
     "text": [
      "Best-1(val acc:0.63) | lr;2.869922484109035e-06, weight decay:2.2477590887461148e-05\n"
     ]
    },
    {
     "data": {
      "image/png": "[encoded data removed]",
      "text/plain": [
       "<Figure size 432x288 with 1 Axes>"
      ]
     },
     "metadata": {
      "needs_background": "light"
     },
     "output_type": "display_data"
    },
    {
     "name": "stdout",
     "output_type": "stream",
     "text": [
      "Best-1(val acc:0.63) | lr;8.257268132284985e-06, weight decay:1.7410748787507874e-07\n"
     ]
    },
    {
     "data": {
      "image/png": "[encoded data removed]",
      "text/plain": [
       "<Figure size 432x288 with 1 Axes>"
      ]
     },
     "metadata": {
      "needs_background": "light"
     },
     "output_type": "display_data"
    },
    {
     "name": "stdout",
     "output_type": "stream",
     "text": [
      "Best-1(val acc:0.63) | lr;0.00018104483187556629, weight decay:1.6705441855841138e-05\n"
     ]
    },
    {
     "data": {
      "image/png": "[encoded data removed]",
      "text/plain": [
       "<Figure size 432x288 with 1 Axes>"
      ]
     },
     "metadata": {
      "needs_background": "light"
     },
     "output_type": "display_data"
    },
    {
     "name": "stdout",
     "output_type": "stream",
     "text": [
      "Best-1(val acc:0.63) | lr;8.101902738046888e-06, weight decay:1.0241190224636363e-07\n"
     ]
    },
    {
     "data": {
      "image/png": "[encoded data removed]",
      "text/plain": [
       "<Figure size 432x288 with 1 Axes>"
      ]
     },
     "metadata": {
      "needs_background": "light"
     },
     "output_type": "display_data"
    },
    {
     "name": "stdout",
     "output_type": "stream",
     "text": [
      "Best-1(val acc:0.63) | lr;1.3441873390995148e-06, weight decay:1.4417562379761772e-08\n"
     ]
    },
    {
     "data": {
      "image/png": "[encoded data removed]",
      "text/plain": [
       "<Figure size 432x288 with 1 Axes>"
      ]
     },
     "metadata": {
      "needs_background": "light"
     },
     "output_type": "display_data"
    },
    {
     "name": "stdout",
     "output_type": "stream",
     "text": [
      "Best-1(val acc:0.63) | lr;2.364424231818566e-05, weight decay:2.3588016915357422e-05\n"
     ]
    },
    {
     "data": {
      "image/png": "[encoded data removed]",
      "text/plain": [
       "<Figure size 432x288 with 1 Axes>"
      ]
     },
     "metadata": {
      "needs_background": "light"
     },
     "output_type": "display_data"
    },
    {
     "name": "stdout",
     "output_type": "stream",
     "text": [
      "Best-1(val acc:0.63) | lr;3.1692019102198326e-06, weight decay:2.349143329248943e-07\n"
     ]
    },
    {
     "data": {
      "image/png": "[encoded data removed]",
      "text/plain": [
       "<Figure size 432x288 with 1 Axes>"
      ]
     },
     "metadata": {
      "needs_background": "light"
     },
     "output_type": "display_data"
    },
    {
     "name": "stdout",
     "output_type": "stream",
     "text": [
      "Best-1(val acc:0.63) | lr;1.0923291847982891e-05, weight decay:4.6077438606944444e-06\n"
     ]
    },
    {
     "data": {
      "image/png": "[encoded data removed]",
      "text/plain": [
       "<Figure size 432x288 with 1 Axes>"
      ]
     },
     "metadata": {
      "needs_background": "light"
     },
     "output_type": "display_data"
    },
    {
     "name": "stdout",
     "output_type": "stream",
     "text": [
      "Best-1(val acc:0.63) | lr;4.207984528456675e-06, weight decay:3.3315952272183415e-06\n"
     ]
    },
    {
     "data": {
      "image/png": "[encoded data removed]",
      "text/plain": [
       "<Figure size 432x288 with 1 Axes>"
      ]
     },
     "metadata": {
      "needs_background": "light"
     },
     "output_type": "display_data"
    },
    {
     "name": "stdout",
     "output_type": "stream",
     "text": [
      "Best-1(val acc:0.63) | lr;4.7119218121768805e-06, weight decay:2.718185101111719e-07\n"
     ]
    },
    {
     "data": {
      "image/png": "[encoded data removed]",
      "text/plain": [
       "<Figure size 432x288 with 1 Axes>"
      ]
     },
     "metadata": {
      "needs_background": "light"
     },
     "output_type": "display_data"
    },
    {
     "name": "stdout",
     "output_type": "stream",
     "text": [
      "Best-1(val acc:0.63) | lr;1.5800517779054747e-05, weight decay:9.474512197218672e-06\n"
     ]
    },
    {
     "data": {
      "image/png": "[encoded data removed]",
      "text/plain": [
       "<Figure size 432x288 with 1 Axes>"
      ]
     },
     "metadata": {
      "needs_background": "light"
     },
     "output_type": "display_data"
    },
    {
     "name": "stdout",
     "output_type": "stream",
     "text": [
      "Best-1(val acc:0.63) | lr;0.00018272147721083162, weight decay:8.834860904114513e-05\n"
     ]
    },
    {
     "data": {
      "image/png": "[encoded data removed]",
      "text/plain": [
       "<Figure size 432x288 with 1 Axes>"
      ]
     },
     "metadata": {
      "needs_background": "light"
     },
     "output_type": "display_data"
    },
    {
     "name": "stdout",
     "output_type": "stream",
     "text": [
      "Best-1(val acc:0.63) | lr;7.848172551693596e-06, weight decay:7.560918625822845e-06\n"
     ]
    },
    {
     "data": {
      "image/png": "[encoded data removed]",
      "text/plain": [
       "<Figure size 432x288 with 1 Axes>"
      ]
     },
     "metadata": {
      "needs_background": "light"
     },
     "output_type": "display_data"
    },
    {
     "name": "stdout",
     "output_type": "stream",
     "text": [
      "Best-1(val acc:0.63) | lr;0.0005535388041363436, weight decay:7.2914672030261e-06\n"
     ]
    },
    {
     "data": {
      "image/png": "[encoded data removed]",
      "text/plain": [
       "<Figure size 432x288 with 1 Axes>"
      ]
     },
     "metadata": {
      "needs_background": "light"
     },
     "output_type": "display_data"
    },
    {
     "name": "stdout",
     "output_type": "stream",
     "text": [
      "Best-1(val acc:0.63) | lr;3.694260268132565e-06, weight decay:4.113809722546508e-08\n"
     ]
    },
    {
     "data": {
      "image/png": "[encoded data removed]",
      "text/plain": [
       "<Figure size 432x288 with 1 Axes>"
      ]
     },
     "metadata": {
      "needs_background": "light"
     },
     "output_type": "display_data"
    },
    {
     "name": "stdout",
     "output_type": "stream",
     "text": [
      "Best-1(val acc:0.63) | lr;0.0007394522639502757, weight decay:1.6937444015566775e-06\n"
     ]
    },
    {
     "data": {
      "image/png": "[encoded data removed]",
      "text/plain": [
       "<Figure size 432x288 with 1 Axes>"
      ]
     },
     "metadata": {
      "needs_background": "light"
     },
     "output_type": "display_data"
    },
    {
     "name": "stdout",
     "output_type": "stream",
     "text": [
      "Best-1(val acc:0.63) | lr;1.6985522250606022e-06, weight decay:4.197300394123876e-06\n"
     ]
    },
    {
     "data": {
      "image/png": "[encoded data removed]",
      "text/plain": [
       "<Figure size 432x288 with 1 Axes>"
      ]
     },
     "metadata": {
      "needs_background": "light"
     },
     "output_type": "display_data"
    },
    {
     "name": "stdout",
     "output_type": "stream",
     "text": [
      "Best-1(val acc:0.63) | lr;6.387409346077554e-05, weight decay:1.518460828344788e-08\n"
     ]
    },
    {
     "data": {
      "image/png": "[encoded data removed]",
      "text/plain": [
       "<Figure size 432x288 with 1 Axes>"
      ]
     },
     "metadata": {
      "needs_background": "light"
     },
     "output_type": "display_data"
    },
    {
     "name": "stdout",
     "output_type": "stream",
     "text": [
      "Best-1(val acc:0.63) | lr;1.0508937658262515e-05, weight decay:2.8160768921427477e-05\n"
     ]
    },
    {
     "data": {
      "image/png": "[encoded data removed]",
      "text/plain": [
       "<Figure size 432x288 with 1 Axes>"
      ]
     },
     "metadata": {
      "needs_background": "light"
     },
     "output_type": "display_data"
    },
    {
     "name": "stdout",
     "output_type": "stream",
     "text": [
      "Best-1(val acc:0.63) | lr;1.8611701994327723e-06, weight decay:1.4432387971860915e-05\n"
     ]
    },
    {
     "data": {
      "image/png": "[encoded data removed]",
      "text/plain": [
       "<Figure size 432x288 with 1 Axes>"
      ]
     },
     "metadata": {
      "needs_background": "light"
     },
     "output_type": "display_data"
    },
    {
     "name": "stdout",
     "output_type": "stream",
     "text": [
      "Best-1(val acc:0.63) | lr;1.4804890314927514e-06, weight decay:1.6233102265938294e-07\n"
     ]
    },
    {
     "data": {
      "image/png": "[encoded data removed]",
      "text/plain": [
       "<Figure size 432x288 with 1 Axes>"
      ]
     },
     "metadata": {
      "needs_background": "light"
     },
     "output_type": "display_data"
    },
    {
     "name": "stdout",
     "output_type": "stream",
     "text": [
      "Best-1(val acc:0.63) | lr;2.7983575760963708e-06, weight decay:4.640197617191776e-06\n"
     ]
    },
    {
     "data": {
      "image/png": "[encoded data removed]",
      "text/plain": [
       "<Figure size 432x288 with 1 Axes>"
      ]
     },
     "metadata": {
      "needs_background": "light"
     },
     "output_type": "display_data"
    },
    {
     "name": "stdout",
     "output_type": "stream",
     "text": [
      "Best-1(val acc:0.63) | lr;7.661418559843827e-05, weight decay:1.4763146497131215e-06\n"
     ]
    },
    {
     "data": {
      "image/png": "[encoded data removed]",
      "text/plain": [
       "<Figure size 432x288 with 1 Axes>"
      ]
     },
     "metadata": {
      "needs_background": "light"
     },
     "output_type": "display_data"
    },
    {
     "name": "stdout",
     "output_type": "stream",
     "text": [
      "Best-1(val acc:0.63) | lr;8.277384132449665e-06, weight decay:4.911533710987547e-07\n"
     ]
    },
    {
     "data": {
      "image/png": "[encoded data removed]",
      "text/plain": [
       "<Figure size 432x288 with 1 Axes>"
      ]
     },
     "metadata": {
      "needs_background": "light"
     },
     "output_type": "display_data"
    },
    {
     "name": "stdout",
     "output_type": "stream",
     "text": [
      "Best-1(val acc:0.63) | lr;1.33724212761718e-06, weight decay:4.911300845175949e-06\n"
     ]
    },
    {
     "data": {
      "image/png": "[encoded data removed]",
      "text/plain": [
       "<Figure size 432x288 with 1 Axes>"
      ]
     },
     "metadata": {
      "needs_background": "light"
     },
     "output_type": "display_data"
    },
    {
     "name": "stdout",
     "output_type": "stream",
     "text": [
      "Best-1(val acc:0.63) | lr;7.827447089887106e-05, weight decay:1.258511021968576e-07\n"
     ]
    },
    {
     "data": {
      "image/png": "[encoded data removed]",
      "text/plain": [
       "<Figure size 432x288 with 1 Axes>"
      ]
     },
     "metadata": {
      "needs_background": "light"
     },
     "output_type": "display_data"
    },
    {
     "name": "stdout",
     "output_type": "stream",
     "text": [
      "Best-1(val acc:0.63) | lr;7.450505901820274e-05, weight decay:1.8526970055843756e-05\n"
     ]
    },
    {
     "data": {
      "image/png": "[encoded data removed]",
      "text/plain": [
       "<Figure size 432x288 with 1 Axes>"
      ]
     },
     "metadata": {
      "needs_background": "light"
     },
     "output_type": "display_data"
    },
    {
     "name": "stdout",
     "output_type": "stream",
     "text": [
      "Best-1(val acc:0.63) | lr;0.0004418248935823863, weight decay:8.801680499179578e-08\n"
     ]
    },
    {
     "data": {
      "image/png": "[encoded data removed]",
      "text/plain": [
       "<Figure size 432x288 with 1 Axes>"
      ]
     },
     "metadata": {
      "needs_background": "light"
     },
     "output_type": "display_data"
    },
    {
     "name": "stdout",
     "output_type": "stream",
     "text": [
      "Best-1(val acc:0.63) | lr;5.102216528677106e-05, weight decay:7.618668810877756e-08\n"
     ]
    },
    {
     "data": {
      "image/png": "[encoded data removed]",
      "text/plain": [
       "<Figure size 432x288 with 1 Axes>"
      ]
     },
     "metadata": {
      "needs_background": "light"
     },
     "output_type": "display_data"
    },
    {
     "name": "stdout",
     "output_type": "stream",
     "text": [
      "Best-1(val acc:0.63) | lr;3.1381662125179637e-06, weight decay:2.987569620590796e-08\n"
     ]
    },
    {
     "data": {
      "image/png": "[encoded data removed]",
      "text/plain": [
       "<Figure size 432x288 with 1 Axes>"
      ]
     },
     "metadata": {
      "needs_background": "light"
     },
     "output_type": "display_data"
    },
    {
     "name": "stdout",
     "output_type": "stream",
     "text": [
      "Best-1(val acc:0.63) | lr;1.757599239279598e-06, weight decay:1.1024633522076546e-07\n"
     ]
    },
    {
     "data": {
      "image/png": "[encoded data removed]",
      "text/plain": [
       "<Figure size 432x288 with 1 Axes>"
      ]
     },
     "metadata": {
      "needs_background": "light"
     },
     "output_type": "display_data"
    },
    {
     "name": "stdout",
     "output_type": "stream",
     "text": [
      "Best-1(val acc:0.63) | lr;1.0920516582726059e-05, weight decay:1.471146319271175e-07\n"
     ]
    },
    {
     "data": {
      "image/png": "[encoded data removed]",
      "text/plain": [
       "<Figure size 432x288 with 1 Axes>"
      ]
     },
     "metadata": {
      "needs_background": "light"
     },
     "output_type": "display_data"
    },
    {
     "name": "stdout",
     "output_type": "stream",
     "text": [
      "Best-1(val acc:0.63) | lr;0.00031394002395643186, weight decay:1.5288360416196196e-05\n"
     ]
    },
    {
     "data": {
      "image/png": "[encoded data removed]",
      "text/plain": [
       "<Figure size 432x288 with 1 Axes>"
      ]
     },
     "metadata": {
      "needs_background": "light"
     },
     "output_type": "display_data"
    },
    {
     "name": "stdout",
     "output_type": "stream",
     "text": [
      "Best-1(val acc:0.63) | lr;5.525614599843141e-05, weight decay:1.5476452934041095e-05\n"
     ]
    },
    {
     "data": {
      "image/png": "[encoded data removed]",
      "text/plain": [
       "<Figure size 432x288 with 1 Axes>"
      ]
     },
     "metadata": {
      "needs_background": "light"
     },
     "output_type": "display_data"
    },
    {
     "name": "stdout",
     "output_type": "stream",
     "text": [
      "Best-1(val acc:0.63) | lr;2.4069967064635846e-06, weight decay:9.04612408844511e-07\n"
     ]
    },
    {
     "data": {
      "image/png": "[encoded data removed]",
      "text/plain": [
       "<Figure size 432x288 with 1 Axes>"
      ]
     },
     "metadata": {
      "needs_background": "light"
     },
     "output_type": "display_data"
    },
    {
     "name": "stdout",
     "output_type": "stream",
     "text": [
      "Best-1(val acc:0.63) | lr;1.2507601724475878e-06, weight decay:1.78678232693669e-06\n"
     ]
    },
    {
     "data": {
      "image/png": "[encoded data removed]",
      "text/plain": [
       "<Figure size 432x288 with 1 Axes>"
      ]
     },
     "metadata": {
      "needs_background": "light"
     },
     "output_type": "display_data"
    }
   ],
   "source": [
    "# -*- coding:utf-8 -*-\n",
    "\n",
    "import sys, os\n",
    "sys.path.append(os.pardir)\n",
    "import numpy as np\n",
    "import matplotlib.pyplot as plt\n",
    "from dataset.mnist import load_mnist\n",
    "from common.multi_layer_net import MultiLayerNet\n",
    "from common.util import shuffle_dataset\n",
    "from common.trainer import Trainer\n",
    "\n",
    "(x_train, t_train), (x_test, t_test) = load_mnist(normalize=True)\n",
    "\n",
    "# 高速化のための訓練データの削減\n",
    "x_train = x_train[:500]\n",
    "t_train = t_train[:500]\n",
    "\n",
    "# 検証データの分離\n",
    "validation_rate = 0.20\n",
    "validation_num = int(x_train.shape[0] * validation_rate)\n",
    "x_train, t_train = shuffle_dataset(x_train, t_train)\n",
    "x_val = x_train[:validation_num]\n",
    "t_val = t_train[:validation_num]\n",
    "x_train = x_train[validation_num:]\n",
    "t_train = t_train[validation_num:]\n",
    "\n",
    "def __train(lr, weight_decay, epocs=50):\n",
    "    network=MultiLayerNet(input_size=784, \n",
    "                         hidden_size_list=[100, 100, 100, 100, 100, 100],\n",
    "                         output_size=10,\n",
    "                         weight_decay_lambda=weight_decay)\n",
    "    trainer = Trainer(network, x_train, t_train, x_val, t_val,\n",
    "                     epochs=epocs, mini_batch_size=100,\n",
    "                     optimizer='sgd',\n",
    "                     optimizer_param={'lr':lr}, verbose=False)\n",
    "    trainer.train()\n",
    "    \n",
    "    return trainer.test_acc_list, trainer.train_acc_list\n",
    "\n",
    "# ハイパーパラメータのランダム探索\n",
    "optimization_trial = 100\n",
    "results_val = {}\n",
    "results_train = {}\n",
    "for _ in range(optimization_trial):\n",
    "    # 探索したハイパーパラメータの範囲を指定\n",
    "    weight_decay = 10 ** np.random.uniform(-8, -4)\n",
    "    lr = 10 ** np.random.uniform(-6, -2)\n",
    "    \n",
    "    val_acc_list, train_acc_list = __train(lr, weight_decay)\n",
    "    print(\"val acc:\" + str(val_acc_list[-1]) + \" | lr:\" + str(lr) \\\n",
    "                           + \", weight decay:\" + str(weight_decay))\n",
    "    key = \"lr;\" + str(lr) + \", weight decay:\" + str(weight_decay)\n",
    "    results_val[key] = val_acc_list\n",
    "    results_train[key] = train_acc_list\n",
    "    \n",
    "\n",
    "print(\"===============Hyper-Parameter Optimization Result================\")\n",
    "graph_draw_num = 20\n",
    "col_num = 5\n",
    "row_num = int(np.ceil(graph_draw_num / col_num))\n",
    "i = 0\n",
    "\n",
    "for key, val__acc_list in sorted(results_val.items(), \n",
    "                                 key=lambda x:x[1][-1], reverse=True):\n",
    "    print(\"Best-\" + str(i+1) + \"(val acc:\" + str(val_acc_list[-1]) + \") | \" + key)\n",
    "    plt.subplot(row_num, col_num, i+1)\n",
    "    plt.title(\"Best-\" + str(i+1))\n",
    "    plt.ylim(0.0, 1.0)\n",
    "    if i % 5:\n",
    "        plt.yticks([])\n",
    "        plt.xticks([])\n",
    "        x = np.arange(len(val_acc_list))\n",
    "        plt.plot(x, val_acc_list)\n",
    "        plt.plot(x, results_train[key], \"--\")\n",
    "        i += 1\n",
    "        \n",
    "        if i >= graph_draw_num:\n",
    "            break\n",
    "    \n",
    "    plt.show()\n",
    "\n",
    "    "
   ]
  },
  {
   "cell_type": "markdown",
   "id": "f298c366",
   "metadata": {},
   "source": [
    "## 6-6. まとめ"
   ]
  },
  {
   "cell_type": "code",
   "execution_count": null,
   "id": "a893594d",
   "metadata": {},
   "outputs": [],
   "source": []
  }
 ],
 "metadata": {
  "kernelspec": {
   "display_name": "Python 3 (ipykernel)",
   "language": "python",
   "name": "python3"
  },
  "language_info": {
   "codemirror_mode": {
    "name": "ipython",
    "version": 3
   },
   "file_extension": ".py",
   "mimetype": "text/x-python",
   "name": "python",
   "nbconvert_exporter": "python",
   "pygments_lexer": "ipython3",
   "version": "3.9.7"
  }
 },
 "nbformat": 4,
 "nbformat_minor": 5
}
